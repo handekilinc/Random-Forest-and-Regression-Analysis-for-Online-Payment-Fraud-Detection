{
 "cells": [
  {
   "cell_type": "code",
   "execution_count": 1,
   "id": "c46c723f",
   "metadata": {
    "_cell_guid": "b1076dfc-b9ad-4769-8c92-a6c4dae69d19",
    "_uuid": "8f2839f25d086af736a60e9eeb907d3b93b6e0e5",
    "execution": {
     "iopub.execute_input": "2024-09-24T11:21:54.408450Z",
     "iopub.status.busy": "2024-09-24T11:21:54.408041Z",
     "iopub.status.idle": "2024-09-24T11:21:55.203091Z",
     "shell.execute_reply": "2024-09-24T11:21:55.201936Z"
    },
    "papermill": {
     "duration": 0.81011,
     "end_time": "2024-09-24T11:21:55.205342",
     "exception": false,
     "start_time": "2024-09-24T11:21:54.395232",
     "status": "completed"
    },
    "tags": []
   },
   "outputs": [
    {
     "name": "stdout",
     "output_type": "stream",
     "text": [
      "/kaggle/input/online-payment-fraud-detection/onlinefraud.csv\n"
     ]
    }
   ],
   "source": [
    "# This Python 3 environment comes with many helpful analytics libraries installed\n",
    "# It is defined by the kaggle/python Docker image: https://github.com/kaggle/docker-python\n",
    "# For example, here's several helpful packages to load\n",
    "\n",
    "import numpy as np # linear algebra\n",
    "import pandas as pd # data processing, CSV file I/O (e.g. pd.read_csv)\n",
    "\n",
    "# Input data files are available in the read-only \"../input/\" directory\n",
    "# For example, running this (by clicking run or pressing Shift+Enter) will list all files under the input directory\n",
    "\n",
    "import os\n",
    "for dirname, _, filenames in os.walk('/kaggle/input'):\n",
    "    for filename in filenames:\n",
    "        print(os.path.join(dirname, filename))\n",
    "\n",
    "# You can write up to 20GB to the current directory (/kaggle/working/) that gets preserved as output when you create a version using \"Save & Run All\" \n",
    "# You can also write temporary files to /kaggle/temp/, but they won't be saved outside of the current session"
   ]
  },
  {
   "cell_type": "code",
   "execution_count": 2,
   "id": "c35e1c99",
   "metadata": {
    "execution": {
     "iopub.execute_input": "2024-09-24T11:21:55.230113Z",
     "iopub.status.busy": "2024-09-24T11:21:55.228816Z",
     "iopub.status.idle": "2024-09-24T11:21:55.234311Z",
     "shell.execute_reply": "2024-09-24T11:21:55.233431Z"
    },
    "papermill": {
     "duration": 0.020031,
     "end_time": "2024-09-24T11:21:55.236521",
     "exception": false,
     "start_time": "2024-09-24T11:21:55.216490",
     "status": "completed"
    },
    "tags": []
   },
   "outputs": [],
   "source": [
    "import pandas as pd\n",
    "import numpy as np\n",
    "import warnings\n",
    "warnings.simplefilter (action = 'ignore') #veriyi data frame'e kaydettik"
   ]
  },
  {
   "cell_type": "code",
   "execution_count": 3,
   "id": "ab29f551",
   "metadata": {
    "execution": {
     "iopub.execute_input": "2024-09-24T11:21:55.259419Z",
     "iopub.status.busy": "2024-09-24T11:21:55.258629Z",
     "iopub.status.idle": "2024-09-24T11:22:16.369539Z",
     "shell.execute_reply": "2024-09-24T11:22:16.368673Z"
    },
    "papermill": {
     "duration": 21.125129,
     "end_time": "2024-09-24T11:22:16.372005",
     "exception": false,
     "start_time": "2024-09-24T11:21:55.246876",
     "status": "completed"
    },
    "tags": []
   },
   "outputs": [],
   "source": [
    "#### Veri Setini Okuma\n",
    "df = pd.read_csv('/kaggle/input/online-payment-fraud-detection/onlinefraud.csv')"
   ]
  },
  {
   "cell_type": "code",
   "execution_count": 4,
   "id": "65aa9678",
   "metadata": {
    "execution": {
     "iopub.execute_input": "2024-09-24T11:22:16.395198Z",
     "iopub.status.busy": "2024-09-24T11:22:16.394763Z",
     "iopub.status.idle": "2024-09-24T11:22:16.423022Z",
     "shell.execute_reply": "2024-09-24T11:22:16.421593Z"
    },
    "papermill": {
     "duration": 0.042663,
     "end_time": "2024-09-24T11:22:16.425475",
     "exception": false,
     "start_time": "2024-09-24T11:22:16.382812",
     "status": "completed"
    },
    "tags": []
   },
   "outputs": [
    {
     "name": "stdout",
     "output_type": "stream",
     "text": [
      "<class 'pandas.core.frame.DataFrame'>\n",
      "RangeIndex: 6362620 entries, 0 to 6362619\n",
      "Data columns (total 11 columns):\n",
      " #   Column          Dtype  \n",
      "---  ------          -----  \n",
      " 0   step            int64  \n",
      " 1   type            object \n",
      " 2   amount          float64\n",
      " 3   nameOrig        object \n",
      " 4   oldbalanceOrg   float64\n",
      " 5   newbalanceOrig  float64\n",
      " 6   nameDest        object \n",
      " 7   oldbalanceDest  float64\n",
      " 8   newbalanceDest  float64\n",
      " 9   isFraud         int64  \n",
      " 10  isFlaggedFraud  int64  \n",
      "dtypes: float64(5), int64(3), object(3)\n",
      "memory usage: 534.0+ MB\n"
     ]
    }
   ],
   "source": [
    "### Veri Seti Bilgilerini İnceleme\n",
    "df.info()"
   ]
  },
  {
   "cell_type": "code",
   "execution_count": 5,
   "id": "0fd49f55",
   "metadata": {
    "execution": {
     "iopub.execute_input": "2024-09-24T11:22:16.449555Z",
     "iopub.status.busy": "2024-09-24T11:22:16.449161Z",
     "iopub.status.idle": "2024-09-24T11:22:18.300058Z",
     "shell.execute_reply": "2024-09-24T11:22:18.298838Z"
    },
    "papermill": {
     "duration": 1.865489,
     "end_time": "2024-09-24T11:22:18.302820",
     "exception": false,
     "start_time": "2024-09-24T11:22:16.437331",
     "status": "completed"
    },
    "tags": []
   },
   "outputs": [
    {
     "data": {
      "text/plain": [
       "step              0\n",
       "type              0\n",
       "amount            0\n",
       "nameOrig          0\n",
       "oldbalanceOrg     0\n",
       "newbalanceOrig    0\n",
       "nameDest          0\n",
       "oldbalanceDest    0\n",
       "newbalanceDest    0\n",
       "isFraud           0\n",
       "isFlaggedFraud    0\n",
       "dtype: int64"
      ]
     },
     "execution_count": 5,
     "metadata": {},
     "output_type": "execute_result"
    }
   ],
   "source": [
    "### Eksik Verilerin Kontrolü\n",
    "df.isna().sum()"
   ]
  },
  {
   "cell_type": "code",
   "execution_count": 6,
   "id": "15a2459a",
   "metadata": {
    "_kg_hide-output": false,
    "execution": {
     "iopub.execute_input": "2024-09-24T11:22:18.327425Z",
     "iopub.status.busy": "2024-09-24T11:22:18.326967Z",
     "iopub.status.idle": "2024-09-24T11:22:18.350677Z",
     "shell.execute_reply": "2024-09-24T11:22:18.349715Z"
    },
    "papermill": {
     "duration": 0.037995,
     "end_time": "2024-09-24T11:22:18.352854",
     "exception": false,
     "start_time": "2024-09-24T11:22:18.314859",
     "status": "completed"
    },
    "tags": []
   },
   "outputs": [
    {
     "data": {
      "text/html": [
       "<div>\n",
       "<style scoped>\n",
       "    .dataframe tbody tr th:only-of-type {\n",
       "        vertical-align: middle;\n",
       "    }\n",
       "\n",
       "    .dataframe tbody tr th {\n",
       "        vertical-align: top;\n",
       "    }\n",
       "\n",
       "    .dataframe thead th {\n",
       "        text-align: right;\n",
       "    }\n",
       "</style>\n",
       "<table border=\"1\" class=\"dataframe\">\n",
       "  <thead>\n",
       "    <tr style=\"text-align: right;\">\n",
       "      <th></th>\n",
       "      <th>step</th>\n",
       "      <th>type</th>\n",
       "      <th>amount</th>\n",
       "      <th>nameOrig</th>\n",
       "      <th>oldbalanceOrg</th>\n",
       "      <th>newbalanceOrig</th>\n",
       "      <th>nameDest</th>\n",
       "      <th>oldbalanceDest</th>\n",
       "      <th>newbalanceDest</th>\n",
       "      <th>isFraud</th>\n",
       "      <th>isFlaggedFraud</th>\n",
       "    </tr>\n",
       "  </thead>\n",
       "  <tbody>\n",
       "    <tr>\n",
       "      <th>0</th>\n",
       "      <td>1</td>\n",
       "      <td>PAYMENT</td>\n",
       "      <td>9839.64</td>\n",
       "      <td>C1231006815</td>\n",
       "      <td>170136.0</td>\n",
       "      <td>160296.36</td>\n",
       "      <td>M1979787155</td>\n",
       "      <td>0.0</td>\n",
       "      <td>0.0</td>\n",
       "      <td>0</td>\n",
       "      <td>0</td>\n",
       "    </tr>\n",
       "    <tr>\n",
       "      <th>1</th>\n",
       "      <td>1</td>\n",
       "      <td>PAYMENT</td>\n",
       "      <td>1864.28</td>\n",
       "      <td>C1666544295</td>\n",
       "      <td>21249.0</td>\n",
       "      <td>19384.72</td>\n",
       "      <td>M2044282225</td>\n",
       "      <td>0.0</td>\n",
       "      <td>0.0</td>\n",
       "      <td>0</td>\n",
       "      <td>0</td>\n",
       "    </tr>\n",
       "    <tr>\n",
       "      <th>2</th>\n",
       "      <td>1</td>\n",
       "      <td>TRANSFER</td>\n",
       "      <td>181.00</td>\n",
       "      <td>C1305486145</td>\n",
       "      <td>181.0</td>\n",
       "      <td>0.00</td>\n",
       "      <td>C553264065</td>\n",
       "      <td>0.0</td>\n",
       "      <td>0.0</td>\n",
       "      <td>1</td>\n",
       "      <td>0</td>\n",
       "    </tr>\n",
       "    <tr>\n",
       "      <th>3</th>\n",
       "      <td>1</td>\n",
       "      <td>CASH_OUT</td>\n",
       "      <td>181.00</td>\n",
       "      <td>C840083671</td>\n",
       "      <td>181.0</td>\n",
       "      <td>0.00</td>\n",
       "      <td>C38997010</td>\n",
       "      <td>21182.0</td>\n",
       "      <td>0.0</td>\n",
       "      <td>1</td>\n",
       "      <td>0</td>\n",
       "    </tr>\n",
       "    <tr>\n",
       "      <th>4</th>\n",
       "      <td>1</td>\n",
       "      <td>PAYMENT</td>\n",
       "      <td>11668.14</td>\n",
       "      <td>C2048537720</td>\n",
       "      <td>41554.0</td>\n",
       "      <td>29885.86</td>\n",
       "      <td>M1230701703</td>\n",
       "      <td>0.0</td>\n",
       "      <td>0.0</td>\n",
       "      <td>0</td>\n",
       "      <td>0</td>\n",
       "    </tr>\n",
       "  </tbody>\n",
       "</table>\n",
       "</div>"
      ],
      "text/plain": [
       "   step      type    amount     nameOrig  oldbalanceOrg  newbalanceOrig  \\\n",
       "0     1   PAYMENT   9839.64  C1231006815       170136.0       160296.36   \n",
       "1     1   PAYMENT   1864.28  C1666544295        21249.0        19384.72   \n",
       "2     1  TRANSFER    181.00  C1305486145          181.0            0.00   \n",
       "3     1  CASH_OUT    181.00   C840083671          181.0            0.00   \n",
       "4     1   PAYMENT  11668.14  C2048537720        41554.0        29885.86   \n",
       "\n",
       "      nameDest  oldbalanceDest  newbalanceDest  isFraud  isFlaggedFraud  \n",
       "0  M1979787155             0.0             0.0        0               0  \n",
       "1  M2044282225             0.0             0.0        0               0  \n",
       "2   C553264065             0.0             0.0        1               0  \n",
       "3    C38997010         21182.0             0.0        1               0  \n",
       "4  M1230701703             0.0             0.0        0               0  "
      ]
     },
     "execution_count": 6,
     "metadata": {},
     "output_type": "execute_result"
    }
   ],
   "source": [
    "### Veri Setinin İlk Satırlarını Görüntüleme\n",
    "df.head()"
   ]
  },
  {
   "cell_type": "code",
   "execution_count": 7,
   "id": "216a2d03",
   "metadata": {
    "execution": {
     "iopub.execute_input": "2024-09-24T11:22:18.378369Z",
     "iopub.status.busy": "2024-09-24T11:22:18.377997Z",
     "iopub.status.idle": "2024-09-24T11:22:20.197194Z",
     "shell.execute_reply": "2024-09-24T11:22:20.196058Z"
    },
    "papermill": {
     "duration": 1.83491,
     "end_time": "2024-09-24T11:22:20.199681",
     "exception": false,
     "start_time": "2024-09-24T11:22:18.364771",
     "status": "completed"
    },
    "tags": []
   },
   "outputs": [
    {
     "data": {
      "text/html": [
       "<div>\n",
       "<style scoped>\n",
       "    .dataframe tbody tr th:only-of-type {\n",
       "        vertical-align: middle;\n",
       "    }\n",
       "\n",
       "    .dataframe tbody tr th {\n",
       "        vertical-align: top;\n",
       "    }\n",
       "\n",
       "    .dataframe thead th {\n",
       "        text-align: right;\n",
       "    }\n",
       "</style>\n",
       "<table border=\"1\" class=\"dataframe\">\n",
       "  <thead>\n",
       "    <tr style=\"text-align: right;\">\n",
       "      <th></th>\n",
       "      <th>step</th>\n",
       "      <th>amount</th>\n",
       "      <th>oldbalanceOrg</th>\n",
       "      <th>newbalanceOrig</th>\n",
       "      <th>oldbalanceDest</th>\n",
       "      <th>newbalanceDest</th>\n",
       "      <th>isFraud</th>\n",
       "      <th>isFlaggedFraud</th>\n",
       "    </tr>\n",
       "  </thead>\n",
       "  <tbody>\n",
       "    <tr>\n",
       "      <th>count</th>\n",
       "      <td>6.362620e+06</td>\n",
       "      <td>6.362620e+06</td>\n",
       "      <td>6.362620e+06</td>\n",
       "      <td>6.362620e+06</td>\n",
       "      <td>6.362620e+06</td>\n",
       "      <td>6.362620e+06</td>\n",
       "      <td>6.362620e+06</td>\n",
       "      <td>6.362620e+06</td>\n",
       "    </tr>\n",
       "    <tr>\n",
       "      <th>mean</th>\n",
       "      <td>2.433972e+02</td>\n",
       "      <td>1.798619e+05</td>\n",
       "      <td>8.338831e+05</td>\n",
       "      <td>8.551137e+05</td>\n",
       "      <td>1.100702e+06</td>\n",
       "      <td>1.224996e+06</td>\n",
       "      <td>1.290820e-03</td>\n",
       "      <td>2.514687e-06</td>\n",
       "    </tr>\n",
       "    <tr>\n",
       "      <th>std</th>\n",
       "      <td>1.423320e+02</td>\n",
       "      <td>6.038582e+05</td>\n",
       "      <td>2.888243e+06</td>\n",
       "      <td>2.924049e+06</td>\n",
       "      <td>3.399180e+06</td>\n",
       "      <td>3.674129e+06</td>\n",
       "      <td>3.590480e-02</td>\n",
       "      <td>1.585775e-03</td>\n",
       "    </tr>\n",
       "    <tr>\n",
       "      <th>min</th>\n",
       "      <td>1.000000e+00</td>\n",
       "      <td>0.000000e+00</td>\n",
       "      <td>0.000000e+00</td>\n",
       "      <td>0.000000e+00</td>\n",
       "      <td>0.000000e+00</td>\n",
       "      <td>0.000000e+00</td>\n",
       "      <td>0.000000e+00</td>\n",
       "      <td>0.000000e+00</td>\n",
       "    </tr>\n",
       "    <tr>\n",
       "      <th>25%</th>\n",
       "      <td>1.560000e+02</td>\n",
       "      <td>1.338957e+04</td>\n",
       "      <td>0.000000e+00</td>\n",
       "      <td>0.000000e+00</td>\n",
       "      <td>0.000000e+00</td>\n",
       "      <td>0.000000e+00</td>\n",
       "      <td>0.000000e+00</td>\n",
       "      <td>0.000000e+00</td>\n",
       "    </tr>\n",
       "    <tr>\n",
       "      <th>50%</th>\n",
       "      <td>2.390000e+02</td>\n",
       "      <td>7.487194e+04</td>\n",
       "      <td>1.420800e+04</td>\n",
       "      <td>0.000000e+00</td>\n",
       "      <td>1.327057e+05</td>\n",
       "      <td>2.146614e+05</td>\n",
       "      <td>0.000000e+00</td>\n",
       "      <td>0.000000e+00</td>\n",
       "    </tr>\n",
       "    <tr>\n",
       "      <th>75%</th>\n",
       "      <td>3.350000e+02</td>\n",
       "      <td>2.087215e+05</td>\n",
       "      <td>1.073152e+05</td>\n",
       "      <td>1.442584e+05</td>\n",
       "      <td>9.430367e+05</td>\n",
       "      <td>1.111909e+06</td>\n",
       "      <td>0.000000e+00</td>\n",
       "      <td>0.000000e+00</td>\n",
       "    </tr>\n",
       "    <tr>\n",
       "      <th>max</th>\n",
       "      <td>7.430000e+02</td>\n",
       "      <td>9.244552e+07</td>\n",
       "      <td>5.958504e+07</td>\n",
       "      <td>4.958504e+07</td>\n",
       "      <td>3.560159e+08</td>\n",
       "      <td>3.561793e+08</td>\n",
       "      <td>1.000000e+00</td>\n",
       "      <td>1.000000e+00</td>\n",
       "    </tr>\n",
       "  </tbody>\n",
       "</table>\n",
       "</div>"
      ],
      "text/plain": [
       "               step        amount  oldbalanceOrg  newbalanceOrig  \\\n",
       "count  6.362620e+06  6.362620e+06   6.362620e+06    6.362620e+06   \n",
       "mean   2.433972e+02  1.798619e+05   8.338831e+05    8.551137e+05   \n",
       "std    1.423320e+02  6.038582e+05   2.888243e+06    2.924049e+06   \n",
       "min    1.000000e+00  0.000000e+00   0.000000e+00    0.000000e+00   \n",
       "25%    1.560000e+02  1.338957e+04   0.000000e+00    0.000000e+00   \n",
       "50%    2.390000e+02  7.487194e+04   1.420800e+04    0.000000e+00   \n",
       "75%    3.350000e+02  2.087215e+05   1.073152e+05    1.442584e+05   \n",
       "max    7.430000e+02  9.244552e+07   5.958504e+07    4.958504e+07   \n",
       "\n",
       "       oldbalanceDest  newbalanceDest       isFraud  isFlaggedFraud  \n",
       "count    6.362620e+06    6.362620e+06  6.362620e+06    6.362620e+06  \n",
       "mean     1.100702e+06    1.224996e+06  1.290820e-03    2.514687e-06  \n",
       "std      3.399180e+06    3.674129e+06  3.590480e-02    1.585775e-03  \n",
       "min      0.000000e+00    0.000000e+00  0.000000e+00    0.000000e+00  \n",
       "25%      0.000000e+00    0.000000e+00  0.000000e+00    0.000000e+00  \n",
       "50%      1.327057e+05    2.146614e+05  0.000000e+00    0.000000e+00  \n",
       "75%      9.430367e+05    1.111909e+06  0.000000e+00    0.000000e+00  \n",
       "max      3.560159e+08    3.561793e+08  1.000000e+00    1.000000e+00  "
      ]
     },
     "execution_count": 7,
     "metadata": {},
     "output_type": "execute_result"
    }
   ],
   "source": [
    "### İstatistiksel Özeti Görüntüleme\n",
    "df.describe()"
   ]
  },
  {
   "cell_type": "code",
   "execution_count": 8,
   "id": "089377cf",
   "metadata": {
    "execution": {
     "iopub.execute_input": "2024-09-24T11:22:20.226155Z",
     "iopub.status.busy": "2024-09-24T11:22:20.225356Z",
     "iopub.status.idle": "2024-09-24T11:22:33.003783Z",
     "shell.execute_reply": "2024-09-24T11:22:33.002820Z"
    },
    "papermill": {
     "duration": 12.793644,
     "end_time": "2024-09-24T11:22:33.005899",
     "exception": false,
     "start_time": "2024-09-24T11:22:20.212255",
     "status": "completed"
    },
    "tags": []
   },
   "outputs": [
    {
     "data": {
      "text/plain": [
       "0"
      ]
     },
     "execution_count": 8,
     "metadata": {},
     "output_type": "execute_result"
    }
   ],
   "source": [
    "### Yinelenen Verilerin Kontrolü\n",
    "df.duplicated().sum()"
   ]
  },
  {
   "cell_type": "code",
   "execution_count": 9,
   "id": "01a84fb9",
   "metadata": {
    "execution": {
     "iopub.execute_input": "2024-09-24T11:22:33.031399Z",
     "iopub.status.busy": "2024-09-24T11:22:33.031003Z",
     "iopub.status.idle": "2024-09-24T11:22:33.234033Z",
     "shell.execute_reply": "2024-09-24T11:22:33.233134Z"
    },
    "papermill": {
     "duration": 0.218669,
     "end_time": "2024-09-24T11:22:33.236578",
     "exception": false,
     "start_time": "2024-09-24T11:22:33.017909",
     "status": "completed"
    },
    "tags": []
   },
   "outputs": [],
   "source": [
    "### Gereksiz Sütunların Kaldırılması\n",
    "df = df.drop(columns=[\"nameOrig\", \"nameDest\"])"
   ]
  },
  {
   "cell_type": "code",
   "execution_count": 10,
   "id": "e5ef3ad4",
   "metadata": {
    "execution": {
     "iopub.execute_input": "2024-09-24T11:22:33.262271Z",
     "iopub.status.busy": "2024-09-24T11:22:33.261557Z",
     "iopub.status.idle": "2024-09-24T11:22:33.788305Z",
     "shell.execute_reply": "2024-09-24T11:22:33.787242Z"
    },
    "papermill": {
     "duration": 0.541989,
     "end_time": "2024-09-24T11:22:33.790525",
     "exception": false,
     "start_time": "2024-09-24T11:22:33.248536",
     "status": "completed"
    },
    "tags": []
   },
   "outputs": [
    {
     "data": {
      "text/plain": [
       "array(['PAYMENT', 'TRANSFER', 'CASH_OUT', 'DEBIT', 'CASH_IN'],\n",
       "      dtype=object)"
      ]
     },
     "execution_count": 10,
     "metadata": {},
     "output_type": "execute_result"
    }
   ],
   "source": [
    "### 'type' Sütunundaki Benzersiz Değerlerin Kontrolü\n",
    "df['type'].unique()"
   ]
  },
  {
   "cell_type": "code",
   "execution_count": 11,
   "id": "75be6481",
   "metadata": {
    "execution": {
     "iopub.execute_input": "2024-09-24T11:22:33.816488Z",
     "iopub.status.busy": "2024-09-24T11:22:33.815529Z",
     "iopub.status.idle": "2024-09-24T11:22:33.831845Z",
     "shell.execute_reply": "2024-09-24T11:22:33.830829Z"
    },
    "papermill": {
     "duration": 0.031875,
     "end_time": "2024-09-24T11:22:33.834141",
     "exception": false,
     "start_time": "2024-09-24T11:22:33.802266",
     "status": "completed"
    },
    "tags": []
   },
   "outputs": [
    {
     "data": {
      "text/html": [
       "<div>\n",
       "<style scoped>\n",
       "    .dataframe tbody tr th:only-of-type {\n",
       "        vertical-align: middle;\n",
       "    }\n",
       "\n",
       "    .dataframe tbody tr th {\n",
       "        vertical-align: top;\n",
       "    }\n",
       "\n",
       "    .dataframe thead th {\n",
       "        text-align: right;\n",
       "    }\n",
       "</style>\n",
       "<table border=\"1\" class=\"dataframe\">\n",
       "  <thead>\n",
       "    <tr style=\"text-align: right;\">\n",
       "      <th></th>\n",
       "      <th>step</th>\n",
       "      <th>type</th>\n",
       "      <th>amount</th>\n",
       "      <th>oldbalanceOrg</th>\n",
       "      <th>newbalanceOrig</th>\n",
       "      <th>oldbalanceDest</th>\n",
       "      <th>newbalanceDest</th>\n",
       "      <th>isFraud</th>\n",
       "      <th>isFlaggedFraud</th>\n",
       "    </tr>\n",
       "  </thead>\n",
       "  <tbody>\n",
       "    <tr>\n",
       "      <th>0</th>\n",
       "      <td>1</td>\n",
       "      <td>PAYMENT</td>\n",
       "      <td>9839.64</td>\n",
       "      <td>170136.0</td>\n",
       "      <td>160296.36</td>\n",
       "      <td>0.0</td>\n",
       "      <td>0.0</td>\n",
       "      <td>0</td>\n",
       "      <td>0</td>\n",
       "    </tr>\n",
       "    <tr>\n",
       "      <th>1</th>\n",
       "      <td>1</td>\n",
       "      <td>PAYMENT</td>\n",
       "      <td>1864.28</td>\n",
       "      <td>21249.0</td>\n",
       "      <td>19384.72</td>\n",
       "      <td>0.0</td>\n",
       "      <td>0.0</td>\n",
       "      <td>0</td>\n",
       "      <td>0</td>\n",
       "    </tr>\n",
       "    <tr>\n",
       "      <th>2</th>\n",
       "      <td>1</td>\n",
       "      <td>TRANSFER</td>\n",
       "      <td>181.00</td>\n",
       "      <td>181.0</td>\n",
       "      <td>0.00</td>\n",
       "      <td>0.0</td>\n",
       "      <td>0.0</td>\n",
       "      <td>1</td>\n",
       "      <td>0</td>\n",
       "    </tr>\n",
       "  </tbody>\n",
       "</table>\n",
       "</div>"
      ],
      "text/plain": [
       "   step      type   amount  oldbalanceOrg  newbalanceOrig  oldbalanceDest  \\\n",
       "0     1   PAYMENT  9839.64       170136.0       160296.36             0.0   \n",
       "1     1   PAYMENT  1864.28        21249.0        19384.72             0.0   \n",
       "2     1  TRANSFER   181.00          181.0            0.00             0.0   \n",
       "\n",
       "   newbalanceDest  isFraud  isFlaggedFraud  \n",
       "0             0.0        0               0  \n",
       "1             0.0        0               0  \n",
       "2             0.0        1               0  "
      ]
     },
     "execution_count": 11,
     "metadata": {},
     "output_type": "execute_result"
    }
   ],
   "source": [
    "### Veri Setinin İlk 3 Satırını Görüntüleme\n",
    "df.head(3)"
   ]
  },
  {
   "cell_type": "code",
   "execution_count": 12,
   "id": "9db1dd8f",
   "metadata": {
    "execution": {
     "iopub.execute_input": "2024-09-24T11:22:33.860529Z",
     "iopub.status.busy": "2024-09-24T11:22:33.859981Z",
     "iopub.status.idle": "2024-09-24T11:22:34.503242Z",
     "shell.execute_reply": "2024-09-24T11:22:34.502092Z"
    },
    "papermill": {
     "duration": 0.659066,
     "end_time": "2024-09-24T11:22:34.505729",
     "exception": false,
     "start_time": "2024-09-24T11:22:33.846663",
     "status": "completed"
    },
    "tags": []
   },
   "outputs": [],
   "source": [
    "### Kategorik Değerlerin Sayısal Değerlere Dönüştürülmesi\n",
    "\n",
    "df['type'] = pd.factorize(df['type'])[0]"
   ]
  },
  {
   "cell_type": "code",
   "execution_count": 13,
   "id": "7b112744",
   "metadata": {
    "execution": {
     "iopub.execute_input": "2024-09-24T11:22:34.531591Z",
     "iopub.status.busy": "2024-09-24T11:22:34.531192Z",
     "iopub.status.idle": "2024-09-24T11:22:34.690215Z",
     "shell.execute_reply": "2024-09-24T11:22:34.688948Z"
    },
    "papermill": {
     "duration": 0.175502,
     "end_time": "2024-09-24T11:22:34.693353",
     "exception": false,
     "start_time": "2024-09-24T11:22:34.517851",
     "status": "completed"
    },
    "tags": []
   },
   "outputs": [],
   "source": [
    "### Bağımsız ve Bağımlı Değişkenlerin Ayrılması\n",
    "\n",
    "X = df.drop('isFraud', axis=1)\n",
    "y = df['isFraud']"
   ]
  },
  {
   "cell_type": "code",
   "execution_count": 14,
   "id": "434e2cf7",
   "metadata": {
    "execution": {
     "iopub.execute_input": "2024-09-24T11:22:34.725409Z",
     "iopub.status.busy": "2024-09-24T11:22:34.724384Z",
     "iopub.status.idle": "2024-09-24T11:22:36.308333Z",
     "shell.execute_reply": "2024-09-24T11:22:36.307497Z"
    },
    "papermill": {
     "duration": 1.600422,
     "end_time": "2024-09-24T11:22:36.310990",
     "exception": false,
     "start_time": "2024-09-24T11:22:34.710568",
     "status": "completed"
    },
    "tags": []
   },
   "outputs": [],
   "source": [
    "### Gerekli Kütüphanelerin İçe Aktarılması\n",
    "\n",
    "from sklearn.ensemble import RandomForestClassifier\n",
    "from sklearn.preprocessing import StandardScaler\n",
    "from sklearn.metrics import classification_report, confusion_matrix\n",
    "from sklearn.model_selection import train_test_split"
   ]
  },
  {
   "cell_type": "code",
   "execution_count": 15,
   "id": "c81cc097",
   "metadata": {
    "execution": {
     "iopub.execute_input": "2024-09-24T11:22:36.337707Z",
     "iopub.status.busy": "2024-09-24T11:22:36.336616Z",
     "iopub.status.idle": "2024-09-24T11:22:37.528540Z",
     "shell.execute_reply": "2024-09-24T11:22:37.527704Z"
    },
    "papermill": {
     "duration": 1.207706,
     "end_time": "2024-09-24T11:22:37.530846",
     "exception": false,
     "start_time": "2024-09-24T11:22:36.323140",
     "status": "completed"
    },
    "tags": []
   },
   "outputs": [],
   "source": [
    "### Veri Setinin Eğitim ve Test Setlerine Ayrılması\n",
    "\n",
    "X_train, X_test, y_train, y_test = train_test_split(X, y, test_size=0.2, random_state=42)"
   ]
  },
  {
   "cell_type": "code",
   "execution_count": 16,
   "id": "aa4b180b",
   "metadata": {
    "execution": {
     "iopub.execute_input": "2024-09-24T11:22:37.555023Z",
     "iopub.status.busy": "2024-09-24T11:22:37.554431Z",
     "iopub.status.idle": "2024-09-24T11:22:37.558566Z",
     "shell.execute_reply": "2024-09-24T11:22:37.557699Z"
    },
    "papermill": {
     "duration": 0.018314,
     "end_time": "2024-09-24T11:22:37.560605",
     "exception": false,
     "start_time": "2024-09-24T11:22:37.542291",
     "status": "completed"
    },
    "tags": []
   },
   "outputs": [],
   "source": [
    "### Verilerin Standartlaştırılması için StandardScaler Nesnesinin Oluşturulması\n",
    "\n",
    "scaler = StandardScaler()"
   ]
  },
  {
   "cell_type": "code",
   "execution_count": 17,
   "id": "8cdac966",
   "metadata": {
    "execution": {
     "iopub.execute_input": "2024-09-24T11:22:37.585237Z",
     "iopub.status.busy": "2024-09-24T11:22:37.584910Z",
     "iopub.status.idle": "2024-09-24T11:22:38.310582Z",
     "shell.execute_reply": "2024-09-24T11:22:38.309743Z"
    },
    "papermill": {
     "duration": 0.739802,
     "end_time": "2024-09-24T11:22:38.312886",
     "exception": false,
     "start_time": "2024-09-24T11:22:37.573084",
     "status": "completed"
    },
    "tags": []
   },
   "outputs": [],
   "source": [
    "### Eğitim Verilerinin Standartlaştırılması\n",
    "\n",
    "X_train_scaled = scaler.fit_transform(X_train)"
   ]
  },
  {
   "cell_type": "code",
   "execution_count": 18,
   "id": "ca86fe71",
   "metadata": {
    "execution": {
     "iopub.execute_input": "2024-09-24T11:22:38.338764Z",
     "iopub.status.busy": "2024-09-24T11:22:38.338413Z",
     "iopub.status.idle": "2024-09-24T11:22:38.428590Z",
     "shell.execute_reply": "2024-09-24T11:22:38.427560Z"
    },
    "papermill": {
     "duration": 0.106083,
     "end_time": "2024-09-24T11:22:38.431159",
     "exception": false,
     "start_time": "2024-09-24T11:22:38.325076",
     "status": "completed"
    },
    "tags": []
   },
   "outputs": [],
   "source": [
    "### Test Verilerinin Standartlaştırılması\n",
    "\n",
    "X_test_scaled = scaler.transform(X_test)"
   ]
  },
  {
   "cell_type": "code",
   "execution_count": 19,
   "id": "1dc70ced",
   "metadata": {
    "execution": {
     "iopub.execute_input": "2024-09-24T11:22:38.457809Z",
     "iopub.status.busy": "2024-09-24T11:22:38.456845Z",
     "iopub.status.idle": "2024-09-24T11:22:38.461950Z",
     "shell.execute_reply": "2024-09-24T11:22:38.460700Z"
    },
    "papermill": {
     "duration": 0.020663,
     "end_time": "2024-09-24T11:22:38.464156",
     "exception": false,
     "start_time": "2024-09-24T11:22:38.443493",
     "status": "completed"
    },
    "tags": []
   },
   "outputs": [],
   "source": [
    "###Random Forest modelini oluşturdum\n",
    "\n",
    "rf_model = RandomForestClassifier()"
   ]
  },
  {
   "cell_type": "code",
   "execution_count": 20,
   "id": "d0bb6ac9",
   "metadata": {
    "execution": {
     "iopub.execute_input": "2024-09-24T11:22:38.489845Z",
     "iopub.status.busy": "2024-09-24T11:22:38.489374Z",
     "iopub.status.idle": "2024-09-24T11:45:48.109645Z",
     "shell.execute_reply": "2024-09-24T11:45:48.108604Z"
    },
    "papermill": {
     "duration": 1389.64744,
     "end_time": "2024-09-24T11:45:48.123791",
     "exception": false,
     "start_time": "2024-09-24T11:22:38.476351",
     "status": "completed"
    },
    "tags": []
   },
   "outputs": [
    {
     "data": {
      "text/html": [
       "<style>#sk-container-id-1 {color: black;background-color: white;}#sk-container-id-1 pre{padding: 0;}#sk-container-id-1 div.sk-toggleable {background-color: white;}#sk-container-id-1 label.sk-toggleable__label {cursor: pointer;display: block;width: 100%;margin-bottom: 0;padding: 0.3em;box-sizing: border-box;text-align: center;}#sk-container-id-1 label.sk-toggleable__label-arrow:before {content: \"▸\";float: left;margin-right: 0.25em;color: #696969;}#sk-container-id-1 label.sk-toggleable__label-arrow:hover:before {color: black;}#sk-container-id-1 div.sk-estimator:hover label.sk-toggleable__label-arrow:before {color: black;}#sk-container-id-1 div.sk-toggleable__content {max-height: 0;max-width: 0;overflow: hidden;text-align: left;background-color: #f0f8ff;}#sk-container-id-1 div.sk-toggleable__content pre {margin: 0.2em;color: black;border-radius: 0.25em;background-color: #f0f8ff;}#sk-container-id-1 input.sk-toggleable__control:checked~div.sk-toggleable__content {max-height: 200px;max-width: 100%;overflow: auto;}#sk-container-id-1 input.sk-toggleable__control:checked~label.sk-toggleable__label-arrow:before {content: \"▾\";}#sk-container-id-1 div.sk-estimator input.sk-toggleable__control:checked~label.sk-toggleable__label {background-color: #d4ebff;}#sk-container-id-1 div.sk-label input.sk-toggleable__control:checked~label.sk-toggleable__label {background-color: #d4ebff;}#sk-container-id-1 input.sk-hidden--visually {border: 0;clip: rect(1px 1px 1px 1px);clip: rect(1px, 1px, 1px, 1px);height: 1px;margin: -1px;overflow: hidden;padding: 0;position: absolute;width: 1px;}#sk-container-id-1 div.sk-estimator {font-family: monospace;background-color: #f0f8ff;border: 1px dotted black;border-radius: 0.25em;box-sizing: border-box;margin-bottom: 0.5em;}#sk-container-id-1 div.sk-estimator:hover {background-color: #d4ebff;}#sk-container-id-1 div.sk-parallel-item::after {content: \"\";width: 100%;border-bottom: 1px solid gray;flex-grow: 1;}#sk-container-id-1 div.sk-label:hover label.sk-toggleable__label {background-color: #d4ebff;}#sk-container-id-1 div.sk-serial::before {content: \"\";position: absolute;border-left: 1px solid gray;box-sizing: border-box;top: 0;bottom: 0;left: 50%;z-index: 0;}#sk-container-id-1 div.sk-serial {display: flex;flex-direction: column;align-items: center;background-color: white;padding-right: 0.2em;padding-left: 0.2em;position: relative;}#sk-container-id-1 div.sk-item {position: relative;z-index: 1;}#sk-container-id-1 div.sk-parallel {display: flex;align-items: stretch;justify-content: center;background-color: white;position: relative;}#sk-container-id-1 div.sk-item::before, #sk-container-id-1 div.sk-parallel-item::before {content: \"\";position: absolute;border-left: 1px solid gray;box-sizing: border-box;top: 0;bottom: 0;left: 50%;z-index: -1;}#sk-container-id-1 div.sk-parallel-item {display: flex;flex-direction: column;z-index: 1;position: relative;background-color: white;}#sk-container-id-1 div.sk-parallel-item:first-child::after {align-self: flex-end;width: 50%;}#sk-container-id-1 div.sk-parallel-item:last-child::after {align-self: flex-start;width: 50%;}#sk-container-id-1 div.sk-parallel-item:only-child::after {width: 0;}#sk-container-id-1 div.sk-dashed-wrapped {border: 1px dashed gray;margin: 0 0.4em 0.5em 0.4em;box-sizing: border-box;padding-bottom: 0.4em;background-color: white;}#sk-container-id-1 div.sk-label label {font-family: monospace;font-weight: bold;display: inline-block;line-height: 1.2em;}#sk-container-id-1 div.sk-label-container {text-align: center;}#sk-container-id-1 div.sk-container {/* jupyter's `normalize.less` sets `[hidden] { display: none; }` but bootstrap.min.css set `[hidden] { display: none !important; }` so we also need the `!important` here to be able to override the default hidden behavior on the sphinx rendered scikit-learn.org. See: https://github.com/scikit-learn/scikit-learn/issues/21755 */display: inline-block !important;position: relative;}#sk-container-id-1 div.sk-text-repr-fallback {display: none;}</style><div id=\"sk-container-id-1\" class=\"sk-top-container\"><div class=\"sk-text-repr-fallback\"><pre>RandomForestClassifier()</pre><b>In a Jupyter environment, please rerun this cell to show the HTML representation or trust the notebook. <br />On GitHub, the HTML representation is unable to render, please try loading this page with nbviewer.org.</b></div><div class=\"sk-container\" hidden><div class=\"sk-item\"><div class=\"sk-estimator sk-toggleable\"><input class=\"sk-toggleable__control sk-hidden--visually\" id=\"sk-estimator-id-1\" type=\"checkbox\" checked><label for=\"sk-estimator-id-1\" class=\"sk-toggleable__label sk-toggleable__label-arrow\">RandomForestClassifier</label><div class=\"sk-toggleable__content\"><pre>RandomForestClassifier()</pre></div></div></div></div></div>"
      ],
      "text/plain": [
       "RandomForestClassifier()"
      ]
     },
     "execution_count": 20,
     "metadata": {},
     "output_type": "execute_result"
    }
   ],
   "source": [
    "### Modelin Eğitilmesi\n",
    "\n",
    "rf_model.fit(X_train_scaled, y_train)"
   ]
  },
  {
   "cell_type": "code",
   "execution_count": 21,
   "id": "4fd3b98d",
   "metadata": {
    "execution": {
     "iopub.execute_input": "2024-09-24T11:45:48.149520Z",
     "iopub.status.busy": "2024-09-24T11:45:48.149115Z",
     "iopub.status.idle": "2024-09-24T11:45:48.154792Z",
     "shell.execute_reply": "2024-09-24T11:45:48.153819Z"
    },
    "papermill": {
     "duration": 0.020785,
     "end_time": "2024-09-24T11:45:48.156755",
     "exception": false,
     "start_time": "2024-09-24T11:45:48.135970",
     "status": "completed"
    },
    "tags": []
   },
   "outputs": [
    {
     "name": "stdout",
     "output_type": "stream",
     "text": [
      "(5090096, 8)\n",
      "5090096\n"
     ]
    }
   ],
   "source": [
    "### Eğitim Verilerinin Boyutlarının Kontrolü\n",
    "\n",
    "print(X_train_scaled.shape)\n",
    "print(len(y_train))"
   ]
  },
  {
   "cell_type": "code",
   "execution_count": 22,
   "id": "e6fcab39",
   "metadata": {
    "execution": {
     "iopub.execute_input": "2024-09-24T11:45:48.182508Z",
     "iopub.status.busy": "2024-09-24T11:45:48.181718Z",
     "iopub.status.idle": "2024-09-24T11:45:48.240243Z",
     "shell.execute_reply": "2024-09-24T11:45:48.239294Z"
    },
    "papermill": {
     "duration": 0.073921,
     "end_time": "2024-09-24T11:45:48.242531",
     "exception": false,
     "start_time": "2024-09-24T11:45:48.168610",
     "status": "completed"
    },
    "tags": []
   },
   "outputs": [
    {
     "name": "stdout",
     "output_type": "stream",
     "text": [
      "step              0\n",
      "type              0\n",
      "amount            0\n",
      "oldbalanceOrg     0\n",
      "newbalanceOrig    0\n",
      "oldbalanceDest    0\n",
      "newbalanceDest    0\n",
      "isFlaggedFraud    0\n",
      "dtype: int64\n",
      "0\n"
     ]
    }
   ],
   "source": [
    "### Eğitim Verilerindeki Eksik Değerlerin Kontrolü\n",
    "\n",
    "print(X_train.isnull().sum()) \n",
    "print(y_train.isnull().sum())"
   ]
  },
  {
   "cell_type": "code",
   "execution_count": 23,
   "id": "b4d6b2c4",
   "metadata": {
    "execution": {
     "iopub.execute_input": "2024-09-24T11:45:48.268646Z",
     "iopub.status.busy": "2024-09-24T11:45:48.268276Z",
     "iopub.status.idle": "2024-09-24T11:45:58.642456Z",
     "shell.execute_reply": "2024-09-24T11:45:58.641621Z"
    },
    "papermill": {
     "duration": 10.389881,
     "end_time": "2024-09-24T11:45:58.644810",
     "exception": false,
     "start_time": "2024-09-24T11:45:48.254929",
     "status": "completed"
    },
    "tags": []
   },
   "outputs": [],
   "source": [
    "### Test Verileri Üzerinde Tahmin Yapılması\n",
    "\n",
    "rf_predictions = rf_model.predict(X_test_scaled)"
   ]
  },
  {
   "cell_type": "code",
   "execution_count": 24,
   "id": "9aa2dcca",
   "metadata": {
    "execution": {
     "iopub.execute_input": "2024-09-24T11:45:58.671731Z",
     "iopub.status.busy": "2024-09-24T11:45:58.670976Z",
     "iopub.status.idle": "2024-09-24T11:46:09.200452Z",
     "shell.execute_reply": "2024-09-24T11:46:09.199623Z"
    },
    "papermill": {
     "duration": 10.545097,
     "end_time": "2024-09-24T11:46:09.202794",
     "exception": false,
     "start_time": "2024-09-24T11:45:58.657697",
     "status": "completed"
    },
    "tags": []
   },
   "outputs": [],
   "source": [
    "### Test Verileri Üzerinde Tahmin Yapılması (Tekrar)\n",
    "\n",
    "y_pred = rf_model.predict(X_test_scaled)"
   ]
  },
  {
   "cell_type": "code",
   "execution_count": 25,
   "id": "78dde032",
   "metadata": {
    "execution": {
     "iopub.execute_input": "2024-09-24T11:46:09.227908Z",
     "iopub.status.busy": "2024-09-24T11:46:09.227572Z",
     "iopub.status.idle": "2024-09-24T11:46:14.166467Z",
     "shell.execute_reply": "2024-09-24T11:46:14.165394Z"
    },
    "papermill": {
     "duration": 4.954051,
     "end_time": "2024-09-24T11:46:14.168882",
     "exception": false,
     "start_time": "2024-09-24T11:46:09.214831",
     "status": "completed"
    },
    "tags": []
   },
   "outputs": [
    {
     "name": "stdout",
     "output_type": "stream",
     "text": [
      "Random Forest Performans Raporu:\n",
      "              precision    recall  f1-score   support\n",
      "\n",
      "           0       1.00      1.00      1.00   1270904\n",
      "           1       0.98      0.79      0.88      1620\n",
      "\n",
      "    accuracy                           1.00   1272524\n",
      "   macro avg       0.99      0.90      0.94   1272524\n",
      "weighted avg       1.00      1.00      1.00   1272524\n",
      "\n",
      "Karışıklık Matrisi:\n",
      "[[1270879      25]\n",
      " [    333    1287]]\n"
     ]
    }
   ],
   "source": [
    "### Model Performansının Değerlendirilmesi\n",
    "\n",
    "print(\"Random Forest Performans Raporu:\")\n",
    "print(classification_report(y_test, rf_predictions))\n",
    "print(\"Karışıklık Matrisi:\")\n",
    "print(confusion_matrix(y_test, rf_predictions))"
   ]
  },
  {
   "cell_type": "code",
   "execution_count": 26,
   "id": "3feb34d5",
   "metadata": {
    "execution": {
     "iopub.execute_input": "2024-09-24T11:46:14.196736Z",
     "iopub.status.busy": "2024-09-24T11:46:14.196077Z",
     "iopub.status.idle": "2024-09-24T11:46:14.445273Z",
     "shell.execute_reply": "2024-09-24T11:46:14.443997Z"
    },
    "papermill": {
     "duration": 0.265912,
     "end_time": "2024-09-24T11:46:14.447920",
     "exception": false,
     "start_time": "2024-09-24T11:46:14.182008",
     "status": "completed"
    },
    "tags": []
   },
   "outputs": [
    {
     "name": "stdout",
     "output_type": "stream",
     "text": [
      "Doğruluk: 1.00\n"
     ]
    }
   ],
   "source": [
    "### Modelin Doğruluğunun Hesaplanması\n",
    "\n",
    "from sklearn.metrics import accuracy_score\n",
    "accuracy = accuracy_score(y_test, y_pred)\n",
    "print(f\"Doğruluk: {accuracy:.2f}\")"
   ]
  },
  {
   "cell_type": "code",
   "execution_count": 27,
   "id": "01f30838",
   "metadata": {
    "execution": {
     "iopub.execute_input": "2024-09-24T11:46:14.476922Z",
     "iopub.status.busy": "2024-09-24T11:46:14.476509Z",
     "iopub.status.idle": "2024-09-24T11:46:14.952250Z",
     "shell.execute_reply": "2024-09-24T11:46:14.950784Z"
    },
    "papermill": {
     "duration": 0.493393,
     "end_time": "2024-09-24T11:46:14.954833",
     "exception": false,
     "start_time": "2024-09-24T11:46:14.461440",
     "status": "completed"
    },
    "tags": []
   },
   "outputs": [
    {
     "name": "stdout",
     "output_type": "stream",
     "text": [
      "Karışıklık Matrisi:\n",
      "[[1270879      25]\n",
      " [    333    1287]]\n"
     ]
    }
   ],
   "source": [
    "### Karışıklık Matrisinin Hesaplanması\n",
    "\n",
    "from sklearn.metrics import confusion_matrix\n",
    "conf_matrix = confusion_matrix(y_test, y_pred)\n",
    "print(\"Karışıklık Matrisi:\")\n",
    "print(conf_matrix)"
   ]
  },
  {
   "cell_type": "code",
   "execution_count": 28,
   "id": "91b55233",
   "metadata": {
    "execution": {
     "iopub.execute_input": "2024-09-24T11:46:14.985362Z",
     "iopub.status.busy": "2024-09-24T11:46:14.984903Z",
     "iopub.status.idle": "2024-09-24T11:46:19.597724Z",
     "shell.execute_reply": "2024-09-24T11:46:19.596595Z"
    },
    "papermill": {
     "duration": 4.631667,
     "end_time": "2024-09-24T11:46:19.601080",
     "exception": false,
     "start_time": "2024-09-24T11:46:14.969413",
     "status": "completed"
    },
    "tags": []
   },
   "outputs": [
    {
     "name": "stdout",
     "output_type": "stream",
     "text": [
      "Sınıflandırma Raporu:\n",
      "              precision    recall  f1-score   support\n",
      "\n",
      "           0       1.00      1.00      1.00   1270904\n",
      "           1       0.98      0.79      0.88      1620\n",
      "\n",
      "    accuracy                           1.00   1272524\n",
      "   macro avg       0.99      0.90      0.94   1272524\n",
      "weighted avg       1.00      1.00      1.00   1272524\n",
      "\n"
     ]
    }
   ],
   "source": [
    "### Karışıklık Matrisinin Hesaplanması\n",
    "\n",
    "from sklearn.metrics import classification_report\n",
    "report = classification_report(y_test, y_pred)\n",
    "print(\"Sınıflandırma Raporu:\")\n",
    "print(report)"
   ]
  },
  {
   "cell_type": "code",
   "execution_count": 29,
   "id": "28b5284b",
   "metadata": {
    "execution": {
     "iopub.execute_input": "2024-09-24T11:46:19.632430Z",
     "iopub.status.busy": "2024-09-24T11:46:19.632036Z",
     "iopub.status.idle": "2024-09-24T11:46:19.734360Z",
     "shell.execute_reply": "2024-09-24T11:46:19.733000Z"
    },
    "papermill": {
     "duration": 0.120093,
     "end_time": "2024-09-24T11:46:19.736750",
     "exception": false,
     "start_time": "2024-09-24T11:46:19.616657",
     "status": "completed"
    },
    "tags": []
   },
   "outputs": [
    {
     "data": {
      "text/plain": [
       "['random_forest_model.pkl']"
      ]
     },
     "execution_count": 29,
     "metadata": {},
     "output_type": "execute_result"
    }
   ],
   "source": [
    "### Modelin Kaydedilmesi\n",
    "\n",
    "import joblib\n",
    "joblib.dump(rf_model, 'random_forest_model.pkl')"
   ]
  },
  {
   "cell_type": "code",
   "execution_count": 30,
   "id": "77238743",
   "metadata": {
    "execution": {
     "iopub.execute_input": "2024-09-24T11:46:19.764868Z",
     "iopub.status.busy": "2024-09-24T11:46:19.764472Z",
     "iopub.status.idle": "2024-09-24T11:46:19.840059Z",
     "shell.execute_reply": "2024-09-24T11:46:19.839220Z"
    },
    "papermill": {
     "duration": 0.092376,
     "end_time": "2024-09-24T11:46:19.842464",
     "exception": false,
     "start_time": "2024-09-24T11:46:19.750088",
     "status": "completed"
    },
    "tags": []
   },
   "outputs": [],
   "source": [
    "### Modelin Yüklenmesi\n",
    "\n",
    "rf_model = joblib.load('random_forest_model.pkl')"
   ]
  },
  {
   "cell_type": "code",
   "execution_count": 31,
   "id": "d4f22a23",
   "metadata": {
    "execution": {
     "iopub.execute_input": "2024-09-24T11:46:19.870988Z",
     "iopub.status.busy": "2024-09-24T11:46:19.870330Z",
     "iopub.status.idle": "2024-09-24T11:46:20.619408Z",
     "shell.execute_reply": "2024-09-24T11:46:20.618236Z"
    },
    "papermill": {
     "duration": 0.766103,
     "end_time": "2024-09-24T11:46:20.621934",
     "exception": false,
     "start_time": "2024-09-24T11:46:19.855831",
     "status": "completed"
    },
    "tags": []
   },
   "outputs": [
    {
     "data": {
      "image/png": "[encoded data removed]",
      "text/plain": [
       "<Figure size 640x480 with 2 Axes>"
      ]
     },
     "metadata": {},
     "output_type": "display_data"
    }
   ],
   "source": [
    "### Karışıklık Matrisinin Görselleştirilmesi\n",
    "\n",
    "import seaborn as sns\n",
    "import matplotlib.pyplot as plt\n",
    "\n",
    "sns.heatmap(conf_matrix, annot=True, fmt='d')\n",
    "plt.xlabel('Tahmin Edilen Etiket')\n",
    "plt.ylabel('Gerçek Etiket')\n",
    "plt.title('Karışıklık Matrisi')\n",
    "plt.show()"
   ]
  },
  {
   "cell_type": "code",
   "execution_count": 32,
   "id": "14675b3f",
   "metadata": {
    "execution": {
     "iopub.execute_input": "2024-09-24T11:46:20.653165Z",
     "iopub.status.busy": "2024-09-24T11:46:20.652070Z",
     "iopub.status.idle": "2024-09-24T11:46:20.670212Z",
     "shell.execute_reply": "2024-09-24T11:46:20.669086Z"
    },
    "papermill": {
     "duration": 0.035962,
     "end_time": "2024-09-24T11:46:20.672429",
     "exception": false,
     "start_time": "2024-09-24T11:46:20.636467",
     "status": "completed"
    },
    "tags": []
   },
   "outputs": [
    {
     "name": "stdout",
     "output_type": "stream",
     "text": [
      "Özelliklerin Önemi:\n",
      "oldbalanceOrg: 0.3140\n",
      "newbalanceDest: 0.2193\n",
      "amount: 0.1512\n",
      "type: 0.1057\n",
      "step: 0.1053\n",
      "oldbalanceDest: 0.0640\n",
      "newbalanceOrig: 0.0384\n",
      "isFlaggedFraud: 0.0020\n"
     ]
    }
   ],
   "source": [
    "### Özelliklerin Öneminin Hesaplanması ve Sıralanması\n",
    "\n",
    "importances = rf_model.feature_importances_\n",
    "features = X_train.columns  # Özellik adlarını ayarlayın\n",
    "\n",
    "# Özelliklerin önemini sıralama\n",
    "feature_importances = sorted(zip(importances, features), reverse=True)\n",
    "print(\"Özelliklerin Önemi:\")\n",
    "for importance, feature in feature_importances:\n",
    "    print(f\"{feature}: {importance:.4f}\")"
   ]
  },
  {
   "cell_type": "code",
   "execution_count": 33,
   "id": "f4ad837d",
   "metadata": {
    "execution": {
     "iopub.execute_input": "2024-09-24T11:46:20.703341Z",
     "iopub.status.busy": "2024-09-24T11:46:20.702937Z",
     "iopub.status.idle": "2024-09-24T11:46:20.707600Z",
     "shell.execute_reply": "2024-09-24T11:46:20.706553Z"
    },
    "papermill": {
     "duration": 0.023103,
     "end_time": "2024-09-24T11:46:20.709606",
     "exception": false,
     "start_time": "2024-09-24T11:46:20.686503",
     "status": "completed"
    },
    "tags": []
   },
   "outputs": [],
   "source": [
    "### Görselleştirme için gerekli Kütüphanelerin İçe Aktarılması\n",
    "\n",
    "import seaborn as sns\n",
    "import matplotlib.pyplot as plt"
   ]
  },
  {
   "cell_type": "code",
   "execution_count": 34,
   "id": "bbdea788",
   "metadata": {
    "execution": {
     "iopub.execute_input": "2024-09-24T11:46:20.739832Z",
     "iopub.status.busy": "2024-09-24T11:46:20.739426Z",
     "iopub.status.idle": "2024-09-24T11:46:20.752465Z",
     "shell.execute_reply": "2024-09-24T11:46:20.751485Z"
    },
    "papermill": {
     "duration": 0.03108,
     "end_time": "2024-09-24T11:46:20.754681",
     "exception": false,
     "start_time": "2024-09-24T11:46:20.723601",
     "status": "completed"
    },
    "tags": []
   },
   "outputs": [],
   "source": [
    "### Tahmin Sonuçlarının DataFrame Olarak Oluşturulması\n",
    "\n",
    "results_df = pd.DataFrame({'Actual': y_test, 'Predicted': y_pred})"
   ]
  },
  {
   "cell_type": "code",
   "execution_count": 35,
   "id": "db4eb345",
   "metadata": {
    "execution": {
     "iopub.execute_input": "2024-09-24T11:46:20.784332Z",
     "iopub.status.busy": "2024-09-24T11:46:20.783951Z",
     "iopub.status.idle": "2024-09-24T11:46:23.482095Z",
     "shell.execute_reply": "2024-09-24T11:46:23.481035Z"
    },
    "papermill": {
     "duration": 2.715313,
     "end_time": "2024-09-24T11:46:23.484209",
     "exception": false,
     "start_time": "2024-09-24T11:46:20.768896",
     "status": "completed"
    },
    "tags": []
   },
   "outputs": [
    {
     "data": {
      "image/png": "[encoded data removed]",
      "text/plain": [
       "<Figure size 800x600 with 1 Axes>"
      ]
     },
     "metadata": {},
     "output_type": "display_data"
    }
   ],
   "source": [
    "### Gerçek ve Tahmin Edilen Değerlerin Görselleştirilmesi\n",
    "\n",
    "plt.figure(figsize=(8, 6))\n",
    "sns.scatterplot(x='Actual', y='Predicted', data=results_df)\n",
    "plt.title('Actual vs Predicted')\n",
    "plt.xlabel('Actual')\n",
    "plt.ylabel('Predicted')\n",
    "plt.show()"
   ]
  },
  {
   "cell_type": "code",
   "execution_count": 36,
   "id": "e60ff409",
   "metadata": {
    "execution": {
     "iopub.execute_input": "2024-09-24T11:46:23.515721Z",
     "iopub.status.busy": "2024-09-24T11:46:23.514888Z",
     "iopub.status.idle": "2024-09-24T11:46:23.520251Z",
     "shell.execute_reply": "2024-09-24T11:46:23.519309Z"
    },
    "papermill": {
     "duration": 0.02287,
     "end_time": "2024-09-24T11:46:23.522203",
     "exception": false,
     "start_time": "2024-09-24T11:46:23.499333",
     "status": "completed"
    },
    "tags": []
   },
   "outputs": [],
   "source": [
    "### Regresyon Analizi için Gerekli Kütüphanelerin İçe Aktarılması\n",
    "\n",
    "import numpy as np\n",
    "import pandas as pd\n",
    "import matplotlib.pyplot as plt\n",
    "from sklearn.linear_model import LinearRegression\n",
    "from sklearn.model_selection import train_test_split\n",
    "from sklearn.metrics import mean_squared_error"
   ]
  },
  {
   "cell_type": "code",
   "execution_count": 37,
   "id": "342325eb",
   "metadata": {
    "execution": {
     "iopub.execute_input": "2024-09-24T11:46:23.553268Z",
     "iopub.status.busy": "2024-09-24T11:46:23.552434Z",
     "iopub.status.idle": "2024-09-24T11:46:23.559131Z",
     "shell.execute_reply": "2024-09-24T11:46:23.558225Z"
    },
    "papermill": {
     "duration": 0.024195,
     "end_time": "2024-09-24T11:46:23.561165",
     "exception": false,
     "start_time": "2024-09-24T11:46:23.536970",
     "status": "completed"
    },
    "tags": []
   },
   "outputs": [],
   "source": [
    "# Örnek veri oluşturma\n",
    "np.random.seed(0)\n",
    "X = 2 * np.random.rand(100, 1)  # Özellikler\n",
    "y = 4 + 3 * X + np.random.randn(100, 1)  # Hedef değişken"
   ]
  },
  {
   "cell_type": "code",
   "execution_count": 38,
   "id": "dbf3766e",
   "metadata": {
    "execution": {
     "iopub.execute_input": "2024-09-24T11:46:23.590960Z",
     "iopub.status.busy": "2024-09-24T11:46:23.590183Z",
     "iopub.status.idle": "2024-09-24T11:46:23.597864Z",
     "shell.execute_reply": "2024-09-24T11:46:23.596833Z"
    },
    "papermill": {
     "duration": 0.024479,
     "end_time": "2024-09-24T11:46:23.599741",
     "exception": false,
     "start_time": "2024-09-24T11:46:23.575262",
     "status": "completed"
    },
    "tags": []
   },
   "outputs": [],
   "source": [
    "# Eğitim ve test verilerini ayırma\n",
    "X_train, X_test, y_train, y_test = train_test_split(X, y, test_size=0.2, random_state=0)\n"
   ]
  },
  {
   "cell_type": "code",
   "execution_count": 39,
   "id": "fa7dc8a5",
   "metadata": {
    "execution": {
     "iopub.execute_input": "2024-09-24T11:46:23.629479Z",
     "iopub.status.busy": "2024-09-24T11:46:23.628734Z",
     "iopub.status.idle": "2024-09-24T11:46:23.644939Z",
     "shell.execute_reply": "2024-09-24T11:46:23.644059Z"
    },
    "papermill": {
     "duration": 0.033147,
     "end_time": "2024-09-24T11:46:23.646914",
     "exception": false,
     "start_time": "2024-09-24T11:46:23.613767",
     "status": "completed"
    },
    "tags": []
   },
   "outputs": [
    {
     "data": {
      "text/html": [
       "<style>#sk-container-id-2 {color: black;background-color: white;}#sk-container-id-2 pre{padding: 0;}#sk-container-id-2 div.sk-toggleable {background-color: white;}#sk-container-id-2 label.sk-toggleable__label {cursor: pointer;display: block;width: 100%;margin-bottom: 0;padding: 0.3em;box-sizing: border-box;text-align: center;}#sk-container-id-2 label.sk-toggleable__label-arrow:before {content: \"▸\";float: left;margin-right: 0.25em;color: #696969;}#sk-container-id-2 label.sk-toggleable__label-arrow:hover:before {color: black;}#sk-container-id-2 div.sk-estimator:hover label.sk-toggleable__label-arrow:before {color: black;}#sk-container-id-2 div.sk-toggleable__content {max-height: 0;max-width: 0;overflow: hidden;text-align: left;background-color: #f0f8ff;}#sk-container-id-2 div.sk-toggleable__content pre {margin: 0.2em;color: black;border-radius: 0.25em;background-color: #f0f8ff;}#sk-container-id-2 input.sk-toggleable__control:checked~div.sk-toggleable__content {max-height: 200px;max-width: 100%;overflow: auto;}#sk-container-id-2 input.sk-toggleable__control:checked~label.sk-toggleable__label-arrow:before {content: \"▾\";}#sk-container-id-2 div.sk-estimator input.sk-toggleable__control:checked~label.sk-toggleable__label {background-color: #d4ebff;}#sk-container-id-2 div.sk-label input.sk-toggleable__control:checked~label.sk-toggleable__label {background-color: #d4ebff;}#sk-container-id-2 input.sk-hidden--visually {border: 0;clip: rect(1px 1px 1px 1px);clip: rect(1px, 1px, 1px, 1px);height: 1px;margin: -1px;overflow: hidden;padding: 0;position: absolute;width: 1px;}#sk-container-id-2 div.sk-estimator {font-family: monospace;background-color: #f0f8ff;border: 1px dotted black;border-radius: 0.25em;box-sizing: border-box;margin-bottom: 0.5em;}#sk-container-id-2 div.sk-estimator:hover {background-color: #d4ebff;}#sk-container-id-2 div.sk-parallel-item::after {content: \"\";width: 100%;border-bottom: 1px solid gray;flex-grow: 1;}#sk-container-id-2 div.sk-label:hover label.sk-toggleable__label {background-color: #d4ebff;}#sk-container-id-2 div.sk-serial::before {content: \"\";position: absolute;border-left: 1px solid gray;box-sizing: border-box;top: 0;bottom: 0;left: 50%;z-index: 0;}#sk-container-id-2 div.sk-serial {display: flex;flex-direction: column;align-items: center;background-color: white;padding-right: 0.2em;padding-left: 0.2em;position: relative;}#sk-container-id-2 div.sk-item {position: relative;z-index: 1;}#sk-container-id-2 div.sk-parallel {display: flex;align-items: stretch;justify-content: center;background-color: white;position: relative;}#sk-container-id-2 div.sk-item::before, #sk-container-id-2 div.sk-parallel-item::before {content: \"\";position: absolute;border-left: 1px solid gray;box-sizing: border-box;top: 0;bottom: 0;left: 50%;z-index: -1;}#sk-container-id-2 div.sk-parallel-item {display: flex;flex-direction: column;z-index: 1;position: relative;background-color: white;}#sk-container-id-2 div.sk-parallel-item:first-child::after {align-self: flex-end;width: 50%;}#sk-container-id-2 div.sk-parallel-item:last-child::after {align-self: flex-start;width: 50%;}#sk-container-id-2 div.sk-parallel-item:only-child::after {width: 0;}#sk-container-id-2 div.sk-dashed-wrapped {border: 1px dashed gray;margin: 0 0.4em 0.5em 0.4em;box-sizing: border-box;padding-bottom: 0.4em;background-color: white;}#sk-container-id-2 div.sk-label label {font-family: monospace;font-weight: bold;display: inline-block;line-height: 1.2em;}#sk-container-id-2 div.sk-label-container {text-align: center;}#sk-container-id-2 div.sk-container {/* jupyter's `normalize.less` sets `[hidden] { display: none; }` but bootstrap.min.css set `[hidden] { display: none !important; }` so we also need the `!important` here to be able to override the default hidden behavior on the sphinx rendered scikit-learn.org. See: https://github.com/scikit-learn/scikit-learn/issues/21755 */display: inline-block !important;position: relative;}#sk-container-id-2 div.sk-text-repr-fallback {display: none;}</style><div id=\"sk-container-id-2\" class=\"sk-top-container\"><div class=\"sk-text-repr-fallback\"><pre>LinearRegression()</pre><b>In a Jupyter environment, please rerun this cell to show the HTML representation or trust the notebook. <br />On GitHub, the HTML representation is unable to render, please try loading this page with nbviewer.org.</b></div><div class=\"sk-container\" hidden><div class=\"sk-item\"><div class=\"sk-estimator sk-toggleable\"><input class=\"sk-toggleable__control sk-hidden--visually\" id=\"sk-estimator-id-2\" type=\"checkbox\" checked><label for=\"sk-estimator-id-2\" class=\"sk-toggleable__label sk-toggleable__label-arrow\">LinearRegression</label><div class=\"sk-toggleable__content\"><pre>LinearRegression()</pre></div></div></div></div></div>"
      ],
      "text/plain": [
       "LinearRegression()"
      ]
     },
     "execution_count": 39,
     "metadata": {},
     "output_type": "execute_result"
    }
   ],
   "source": [
    "# Modeli oluşturma ve eğitme\n",
    "model = LinearRegression()\n",
    "model.fit(X_train, y_train)"
   ]
  },
  {
   "cell_type": "code",
   "execution_count": 40,
   "id": "e5f98e43",
   "metadata": {
    "execution": {
     "iopub.execute_input": "2024-09-24T11:46:23.677503Z",
     "iopub.status.busy": "2024-09-24T11:46:23.676716Z",
     "iopub.status.idle": "2024-09-24T11:46:23.683794Z",
     "shell.execute_reply": "2024-09-24T11:46:23.682849Z"
    },
    "papermill": {
     "duration": 0.025171,
     "end_time": "2024-09-24T11:46:23.686375",
     "exception": false,
     "start_time": "2024-09-24T11:46:23.661204",
     "status": "completed"
    },
    "tags": []
   },
   "outputs": [
    {
     "name": "stdout",
     "output_type": "stream",
     "text": [
      "Eğitim Verisi Ortalama Kare Hata (MSE): 0.99\n",
      "Test Verisi Ortalama Kare Hata (MSE): 1.04\n"
     ]
    }
   ],
   "source": [
    "# Tahminler\n",
    "y_train_pred = model.predict(X_train)\n",
    "y_test_pred = model.predict(X_test)\n",
    "\n",
    "# Model değerlendirmesi\n",
    "mse_train = mean_squared_error(y_train, y_train_pred)\n",
    "mse_test = mean_squared_error(y_test, y_test_pred)\n",
    "print(f\"Eğitim Verisi Ortalama Kare Hata (MSE): {mse_train:.2f}\")\n",
    "print(f\"Test Verisi Ortalama Kare Hata (MSE): {mse_test:.2f}\")"
   ]
  },
  {
   "cell_type": "code",
   "execution_count": 41,
   "id": "66c54b92",
   "metadata": {
    "execution": {
     "iopub.execute_input": "2024-09-24T11:46:23.718447Z",
     "iopub.status.busy": "2024-09-24T11:46:23.718073Z",
     "iopub.status.idle": "2024-09-24T11:46:24.971612Z",
     "shell.execute_reply": "2024-09-24T11:46:24.970681Z"
    },
    "papermill": {
     "duration": 1.272239,
     "end_time": "2024-09-24T11:46:24.974414",
     "exception": false,
     "start_time": "2024-09-24T11:46:23.702175",
     "status": "completed"
    },
    "tags": []
   },
   "outputs": [
    {
     "data": {
      "image/png": "[encoded data removed]",
      "text/plain": [
       "<Figure size 1800x1200 with 4 Axes>"
      ]
     },
     "metadata": {},
     "output_type": "display_data"
    }
   ],
   "source": [
    "# Grafikleri oluşturma\n",
    "plt.figure(figsize=(18, 12))\n",
    "\n",
    "# Eğitim verileri ve regresyon doğrusu\n",
    "plt.subplot(2, 2, 1)\n",
    "plt.scatter(X_train, y_train, color='blue', label='Eğitim Verisi')\n",
    "plt.plot(X_train, y_train_pred, color='red', linewidth=2, label='Regresyon Doğrusu')\n",
    "plt.xlabel('Bağımsız Değişken (X)')\n",
    "plt.ylabel('Bağımlı Değişken (y)')\n",
    "plt.title('Eğitim Verisi ve Regresyon Doğrusu')\n",
    "plt.legend()\n",
    "\n",
    "# Test verileri ve regresyon doğrusu\n",
    "plt.subplot(2, 2, 2)\n",
    "plt.scatter(X_test, y_test, color='green', label='Test Verisi')\n",
    "plt.plot(X_test, y_test_pred, color='red', linewidth=2, label='Regresyon Doğrusu')\n",
    "plt.xlabel('Bağımsız Değişken (X)')\n",
    "plt.ylabel('Bağımlı Değişken (y)')\n",
    "plt.title('Test Verisi ve Regresyon Doğrusu')\n",
    "plt.legend()\n",
    "\n",
    "# Eğitim verisi ve tahminler\n",
    "plt.subplot(2, 2, 3)\n",
    "plt.scatter(X_train, y_train, color='blue', label='Eğitim Verisi')\n",
    "plt.scatter(X_train, y_train_pred, color='orange', label='Tahminler', alpha=0.7)\n",
    "plt.xlabel('Bağımsız Değişken (X)')\n",
    "plt.ylabel('Bağımlı Değişken (y)')\n",
    "plt.title('Eğitim Verisi ve Tahminler')\n",
    "plt.legend()\n",
    "\n",
    "# Test verisi ve tahminler\n",
    "plt.subplot(2, 2, 4)\n",
    "plt.scatter(X_test, y_test, color='green', label='Test Verisi')\n",
    "plt.scatter(X_test, y_test_pred, color='purple', label='Tahminler', alpha=0.7)\n",
    "plt.xlabel('Bağımsız Değişken (X)')\n",
    "plt.ylabel('Bağımlı Değişken (y)')\n",
    "plt.title('Test Verisi ve Tahminler')\n",
    "plt.legend()\n",
    "\n",
    "plt.tight_layout()\n",
    "plt.show()"
   ]
  },
  {
   "cell_type": "code",
   "execution_count": 42,
   "id": "63ec822c",
   "metadata": {
    "execution": {
     "iopub.execute_input": "2024-09-24T11:46:25.011798Z",
     "iopub.status.busy": "2024-09-24T11:46:25.011382Z",
     "iopub.status.idle": "2024-09-24T11:46:25.069097Z",
     "shell.execute_reply": "2024-09-24T11:46:25.068002Z"
    },
    "papermill": {
     "duration": 0.078366,
     "end_time": "2024-09-24T11:46:25.071247",
     "exception": false,
     "start_time": "2024-09-24T11:46:24.992881",
     "status": "completed"
    },
    "tags": []
   },
   "outputs": [
    {
     "name": "stdout",
     "output_type": "stream",
     "text": [
      "isFraud\n",
      "0    6354407\n",
      "1       8213\n",
      "Name: count, dtype: int64\n"
     ]
    }
   ],
   "source": [
    "# 'isFraud' sütununun değerlerinin sayısını hesaplayın\n",
    "fraud_counts = df['isFraud'].value_counts()\n",
    "print(fraud_counts)"
   ]
  },
  {
   "cell_type": "code",
   "execution_count": 43,
   "id": "7a2195c0",
   "metadata": {
    "execution": {
     "iopub.execute_input": "2024-09-24T11:46:25.108099Z",
     "iopub.status.busy": "2024-09-24T11:46:25.107431Z",
     "iopub.status.idle": "2024-09-24T11:46:41.062369Z",
     "shell.execute_reply": "2024-09-24T11:46:41.061468Z"
    },
    "papermill": {
     "duration": 15.976046,
     "end_time": "2024-09-24T11:46:41.064474",
     "exception": false,
     "start_time": "2024-09-24T11:46:25.088428",
     "status": "completed"
    },
    "tags": []
   },
   "outputs": [
    {
     "data": {
      "image/png": "[encoded data removed]",
      "text/plain": [
       "<Figure size 1200x800 with 1 Axes>"
      ]
     },
     "metadata": {},
     "output_type": "display_data"
    }
   ],
   "source": [
    "import pandas as pd\n",
    "import matplotlib.pyplot as plt\n",
    "import seaborn as sns\n",
    "\n",
    "# Veriyi tekrar yükleyin\n",
    "df = pd.read_csv('/kaggle/input/online-payment-fraud-detection/onlinefraud.csv')\n",
    "\n",
    "# Kutu grafiği oluşturun\n",
    "plt.figure(figsize=(12, 8))\n",
    "ax = sns.boxplot(x='isFraud', y='amount', data=df, palette='viridis')\n",
    "\n",
    "# Grafik başlığını ve etiketleri ayarlayın\n",
    "plt.title('Fraud ve Non-Fraud İşlemlerinin Miktar Dağılımı', fontsize=18, weight='bold')\n",
    "plt.xlabel('İşlem Türü', fontsize=14)\n",
    "plt.ylabel('İşlem Miktarı', fontsize=14)\n",
    "\n",
    "# Kutu grafiğinin alt kısmına işlem sayılarını ekleyin\n",
    "for i, label in enumerate(fraud_counts.index):\n",
    "    count = fraud_counts[label]\n",
    "# Y ekseninde en düşük değeri biraz daha aşağıda ayarlayın\n",
    "    y_position = df['amount'].min() - (df['amount'].max() - df['amount'].min()) * 0.1\n",
    "    plt.text(i, y_position, f'İşlem Sayısı: {count}', \n",
    "             ha='center', va='top', fontsize=12, color='black', weight='bold')\n",
    "\n",
    "# Grafiği gösterin\n",
    "plt.show()"
   ]
  }
 ],
 "metadata": {
  "kaggle": {
   "accelerator": "nvidiaTeslaT4",
   "dataSources": [
    {
     "datasetId": 2580326,
     "sourceId": 4398600,
     "sourceType": "datasetVersion"
    }
   ],
   "dockerImageVersionId": 30761,
   "isGpuEnabled": true,
   "isInternetEnabled": false,
   "language": "python",
   "sourceType": "notebook"
  },
  "kernelspec": {
   "display_name": "Python 3",
   "language": "python",
   "name": "python3"
  },
  "language_info": {
   "codemirror_mode": {
    "name": "ipython",
    "version": 3
   },
   "file_extension": ".py",
   "mimetype": "text/x-python",
   "name": "python",
   "nbconvert_exporter": "python",
   "pygments_lexer": "ipython3",
   "version": "3.10.14"
  },
  "papermill": {
   "default_parameters": {},
   "duration": 1491.041801,
   "end_time": "2024-09-24T11:46:42.605652",
   "environment_variables": {},
   "exception": null,
   "input_path": "__notebook__.ipynb",
   "output_path": "__notebook__.ipynb",
   "parameters": {},
   "start_time": "2024-09-24T11:21:51.563851",
   "version": "2.6.0"
  }
 },
 "nbformat": 4,
 "nbformat_minor": 5
}
